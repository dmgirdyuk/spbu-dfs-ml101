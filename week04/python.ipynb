{
 "cells": [
  {
   "cell_type": "markdown",
   "id": "7515c5ee-9c7c-4944-9a69-8d1bf5b650b6",
   "metadata": {},
   "source": [
    "# Python bare minimum\n",
    "\n",
    "The Python tutorial: https://docs.python.org/3.10/tutorial/index.html\n",
    "\n",
    "Отличные лекции (8 лет прошло!): https://compscicenter.ru/courses/python/2015-autumn/"
   ]
  },
  {
   "cell_type": "markdown",
   "id": "38e6fea2-a546-440a-a7e0-20fe404ef92e",
   "metadata": {},
   "source": [
    "- Динамический интерпретируемый язык программирования.\n",
    "- Ориентируемый на простоту и читаемость синтаксис.\n",
    "- Открытый исходный код."
   ]
  },
  {
   "cell_type": "markdown",
   "id": "a95e9ff7-cd72-4f6c-9fcc-e31de2f43a25",
   "metadata": {},
   "source": [
    "## Типы"
   ]
  },
  {
   "cell_type": "markdown",
   "id": "57087e61-2928-44b3-b46e-523bda19f3cf",
   "metadata": {},
   "source": [
    "### Числовые"
   ]
  },
  {
   "cell_type": "code",
   "execution_count": null,
   "id": "c6f0f79c-939b-4d63-9506-8be712e8d544",
   "metadata": {},
   "outputs": [],
   "source": [
    "1, type(1)"
   ]
  },
  {
   "cell_type": "code",
   "execution_count": null,
   "id": "b648842b-362b-4d06-ac8e-a4dfd0ae315f",
   "metadata": {},
   "outputs": [],
   "source": [
    ".1, 0.1, type(.1)"
   ]
  },
  {
   "cell_type": "code",
   "execution_count": null,
   "id": "5f3bed7e-6baf-465c-9a5b-8a54a91a0aaf",
   "metadata": {},
   "outputs": [],
   "source": [
    "1j, type(1j)"
   ]
  },
  {
   "cell_type": "code",
   "execution_count": null,
   "id": "626b6320-3789-4354-84ec-e4edef180316",
   "metadata": {},
   "outputs": [],
   "source": [
    "1 + 2"
   ]
  },
  {
   "cell_type": "code",
   "execution_count": null,
   "id": "b6bd5af5-7b9f-43f6-9000-88e13c3adfe0",
   "metadata": {},
   "outputs": [],
   "source": [
    "2 * 3"
   ]
  },
  {
   "cell_type": "code",
   "execution_count": null,
   "id": "cef08353-af71-48e0-a8a4-815a5517196d",
   "metadata": {},
   "outputs": [],
   "source": [
    "3 / 4, type(3 / 4)  # float при делении"
   ]
  },
  {
   "cell_type": "code",
   "execution_count": null,
   "id": "136b8fae-772b-40bf-aed8-1cc2b35f2c50",
   "metadata": {},
   "outputs": [],
   "source": [
    "9 ** 999  # длинная арифметика"
   ]
  },
  {
   "cell_type": "code",
   "execution_count": null,
   "id": "bcca48c0-09fc-493a-8ac6-aa9d3d65c03b",
   "metadata": {},
   "outputs": [],
   "source": [
    "15 // 6"
   ]
  },
  {
   "cell_type": "code",
   "execution_count": null,
   "id": "2dcf5081-9a0e-4651-914c-64e9030d20ba",
   "metadata": {},
   "outputs": [],
   "source": [
    " 15 % 8"
   ]
  },
  {
   "cell_type": "code",
   "execution_count": null,
   "id": "acfc3901-b30d-45ba-b584-9f37820f7049",
   "metadata": {},
   "outputs": [],
   "source": [
    "a = 1\n",
    "b = 2\n",
    "c = b\n",
    "a, b, c, b is c, b == c"
   ]
  },
  {
   "cell_type": "code",
   "execution_count": null,
   "id": "ae90af4a-e8ec-4deb-8e65-152be2de37c0",
   "metadata": {},
   "outputs": [],
   "source": [
    "b += 3\n",
    "b, c"
   ]
  },
  {
   "cell_type": "code",
   "execution_count": null,
   "id": "7b408c49-ddc6-4bca-851b-67c4f87a6261",
   "metadata": {},
   "outputs": [],
   "source": [
    "b += 3\n",
    "b, c"
   ]
  },
  {
   "cell_type": "code",
   "execution_count": null,
   "id": "1e6018a6-f861-444f-bcb2-e2de24c2df77",
   "metadata": {},
   "outputs": [],
   "source": [
    "b = c = 4\n",
    "b, c"
   ]
  },
  {
   "cell_type": "code",
   "execution_count": null,
   "id": "93de34d6-18b7-480d-a63f-e2e82d92f90f",
   "metadata": {},
   "outputs": [],
   "source": [
    "d"
   ]
  },
  {
   "cell_type": "markdown",
   "id": "60dc49b6-28ef-43c7-b710-0ec2eabfffbd",
   "metadata": {},
   "source": [
    "### Логические"
   ]
  },
  {
   "cell_type": "code",
   "execution_count": null,
   "id": "66ae1b47-3b55-47a2-aa20-9c7c7b3bd627",
   "metadata": {},
   "outputs": [],
   "source": [
    "to_be = False\n",
    "to_be or not to_be"
   ]
  },
  {
   "cell_type": "code",
   "execution_count": null,
   "id": "d93a0cf3-e4f2-40b2-bf50-fd4621af2b84",
   "metadata": {},
   "outputs": [],
   "source": [
    "to_be == to_be"
   ]
  },
  {
   "cell_type": "code",
   "execution_count": null,
   "id": "63a52808-5565-492a-9143-5f894f06758b",
   "metadata": {},
   "outputs": [],
   "source": [
    "True or print(None)"
   ]
  },
  {
   "cell_type": "code",
   "execution_count": null,
   "id": "c0cfd975-a94e-4f12-8ff7-ee0121754987",
   "metadata": {},
   "outputs": [],
   "source": [
    "False or print(None)"
   ]
  },
  {
   "cell_type": "code",
   "execution_count": null,
   "id": "c2b439c1-9f61-4dd0-a4d0-d75eb4da029e",
   "metadata": {},
   "outputs": [],
   "source": [
    "1 + True"
   ]
  },
  {
   "cell_type": "markdown",
   "id": "b2a181b7-9f04-49a6-8d48-a7e791dbde6b",
   "metadata": {},
   "source": [
    "### Строковые"
   ]
  },
  {
   "cell_type": "code",
   "execution_count": null,
   "id": "2ee855dd-0899-473b-888a-ab335a9c252d",
   "metadata": {},
   "outputs": [],
   "source": [
    "\"Python\", type(\"Python\")"
   ]
  },
  {
   "cell_type": "code",
   "execution_count": null,
   "id": "e2369189-4968-4fc6-9c11-97494f9c689b",
   "metadata": {},
   "outputs": [],
   "source": [
    "b\"Python\", type(b\"Python\")"
   ]
  },
  {
   "cell_type": "code",
   "execution_count": null,
   "id": "010fc25b-7038-4e05-abdb-a32b56519211",
   "metadata": {},
   "outputs": [],
   "source": [
    "s = b\"Python\"\n",
    "s_decoded = s.decode(\"utf-8\")\n",
    "s_decoded, type(s_decoded)"
   ]
  },
  {
   "cell_type": "code",
   "execution_count": null,
   "id": "992a4b7e-b2eb-40a8-a949-48838a532e66",
   "metadata": {},
   "outputs": [],
   "source": [
    "print(\n",
    "    \"-\" * 10,\n",
    "    \"spbu\", \n",
    "    'dfs',\n",
    "    \"20\" \"23\",\n",
    "    \"\"\"\\t\\t123\n",
    "    456\n",
    "789\n",
    "    \"\"\",\n",
    "    \"-\" * 10,\n",
    "    \"  42  \".strip(),\n",
    "    sep=\"\\n\",\n",
    "    end=\"\\nkonec\",\n",
    ")"
   ]
  },
  {
   "cell_type": "code",
   "execution_count": null,
   "id": "596aa475-e185-4294-9e25-a6240d42533d",
   "metadata": {},
   "outputs": [],
   "source": [
    "s = \"Python3.10\"\n",
    "print(s, len(s))"
   ]
  },
  {
   "cell_type": "code",
   "execution_count": null,
   "id": "5331576b-afd4-45a7-9732-e421b2078650",
   "metadata": {},
   "outputs": [],
   "source": [
    "s[0] = \"J\"  # индексация"
   ]
  },
  {
   "cell_type": "markdown",
   "id": "56c05e18-a766-4ecd-8996-1732b384de8f",
   "metadata": {},
   "source": [
    "### Списки"
   ]
  },
  {
   "cell_type": "code",
   "execution_count": null,
   "id": "c9c363ea-a56d-484b-83bb-1145f522a850",
   "metadata": {},
   "outputs": [],
   "source": [
    "[], list()"
   ]
  },
  {
   "cell_type": "code",
   "execution_count": null,
   "id": "0778dd84-81c0-4700-9d34-25bad9c1e0bd",
   "metadata": {},
   "outputs": [],
   "source": [
    "[None] * 10"
   ]
  },
  {
   "cell_type": "code",
   "execution_count": null,
   "id": "68244df4-97a6-4f5d-9e72-ead41a0ede31",
   "metadata": {},
   "outputs": [],
   "source": [
    "a = [1, 2, 3]\n",
    "b = a\n",
    "a[0] = 4\n",
    "b"
   ]
  },
  {
   "cell_type": "code",
   "execution_count": null,
   "id": "3fcd0e61-0d77-478e-95c1-d3b840a4bd1a",
   "metadata": {},
   "outputs": [],
   "source": [
    "b.append(\"12\")\n",
    "a"
   ]
  },
  {
   "cell_type": "code",
   "execution_count": null,
   "id": "da8bcc8a-eab6-4207-9499-5cb9c78abe2c",
   "metadata": {},
   "outputs": [],
   "source": [
    "del b[2]  # b.pop(2)\n",
    "b"
   ]
  },
  {
   "cell_type": "code",
   "execution_count": null,
   "id": "e444cd49-8fb9-40bd-8f62-ca68fe8f1c41",
   "metadata": {},
   "outputs": [],
   "source": [
    "b.pop(0), b"
   ]
  },
  {
   "cell_type": "markdown",
   "id": "bb936820-0b46-48a4-b4fc-c627956802cd",
   "metadata": {},
   "source": [
    "### Конкатенация"
   ]
  },
  {
   "cell_type": "code",
   "execution_count": null,
   "id": "7067b190-8f47-4509-b028-4ac4ad1e24dd",
   "metadata": {},
   "outputs": [],
   "source": [
    "a = [1, 2]\n",
    "b = [3, 4, 5]\n",
    "a + b"
   ]
  },
  {
   "cell_type": "code",
   "execution_count": null,
   "id": "400c6060-6f01-4c89-87a2-38a74b6b652f",
   "metadata": {},
   "outputs": [],
   "source": [
    "\"_\".join(b)"
   ]
  },
  {
   "cell_type": "code",
   "execution_count": null,
   "id": "e3587d66-11b4-4155-8782-f9a441d67146",
   "metadata": {},
   "outputs": [],
   "source": [
    "\"_\".join(s)"
   ]
  },
  {
   "cell_type": "markdown",
   "id": "077a2eec-ec63-4c9e-870a-048c08e129e6",
   "metadata": {},
   "source": [
    "### Слайсы"
   ]
  },
  {
   "cell_type": "code",
   "execution_count": null,
   "id": "2376cc1f-8562-4af0-9f8f-4c26d425f330",
   "metadata": {},
   "outputs": [],
   "source": [
    "s[:5]"
   ]
  },
  {
   "cell_type": "code",
   "execution_count": null,
   "id": "44c64e14-31ad-4d48-8634-ab47e364eded",
   "metadata": {},
   "outputs": [],
   "source": [
    "s[-5:]"
   ]
  },
  {
   "cell_type": "code",
   "execution_count": null,
   "id": "a2d310b4-1445-4fc8-ad2b-10551b12c87e",
   "metadata": {},
   "outputs": [],
   "source": [
    "s[0:-1:2]"
   ]
  },
  {
   "cell_type": "code",
   "execution_count": null,
   "id": "18103d58-efc3-4cf9-a258-ba0f649e4477",
   "metadata": {},
   "outputs": [],
   "source": [
    "d = [12, 11, 10, 9, 8, 7, 6]\n",
    "d_slice = d[:-1:2]"
   ]
  },
  {
   "cell_type": "code",
   "execution_count": null,
   "id": "0bcfac8c-6bca-45af-8c50-47a89a5f0fff",
   "metadata": {},
   "outputs": [],
   "source": [
    "d_slice[1] = -12\n",
    "d"
   ]
  },
  {
   "cell_type": "code",
   "execution_count": null,
   "id": "08572e1e-c6cd-4711-a9d0-1c2c8f5e4a65",
   "metadata": {},
   "outputs": [],
   "source": [
    "# slice(0, -1, 2), slice(0, None, 2)"
   ]
  },
  {
   "cell_type": "markdown",
   "id": "8a402f71-7fa0-48b2-9f53-d9c3a57fa6b9",
   "metadata": {},
   "source": [
    "### Кортежи"
   ]
  },
  {
   "cell_type": "code",
   "execution_count": null,
   "id": "7ecc9f66-8ad6-44de-8a39-262d7fa3ef48",
   "metadata": {},
   "outputs": [],
   "source": [
    "(1,), tuple(), type(tuple())"
   ]
  },
  {
   "cell_type": "code",
   "execution_count": null,
   "id": "0ca5a6be-9c69-41c7-b931-5568eedba2db",
   "metadata": {},
   "outputs": [],
   "source": [
    "t = (\"12\", 1, 14)\n",
    "t, len(t)"
   ]
  },
  {
   "cell_type": "code",
   "execution_count": null,
   "id": "88062f47-6625-4cc9-82fe-9550107e93bf",
   "metadata": {},
   "outputs": [],
   "source": [
    "t[0] = \"11\""
   ]
  },
  {
   "cell_type": "code",
   "execution_count": null,
   "id": "593d4bf6-ec61-4a55-8043-daf17863f586",
   "metadata": {},
   "outputs": [],
   "source": [
    "del t[0]"
   ]
  },
  {
   "cell_type": "markdown",
   "id": "4d6ed315-da6d-4733-971b-cc55e4d753f9",
   "metadata": {},
   "source": [
    "### Множества"
   ]
  },
  {
   "cell_type": "code",
   "execution_count": null,
   "id": "d8244c01-5649-426d-ad57-8038d53de1fc",
   "metadata": {},
   "outputs": [],
   "source": [
    "{\"1\", 2, 3j}, set(), type(set())"
   ]
  },
  {
   "cell_type": "code",
   "execution_count": null,
   "id": "7f910363-26cf-4179-9de8-f32eba27c040",
   "metadata": {},
   "outputs": [],
   "source": [
    "h = {\"1\", 2, 3j}\n",
    "\"1\" in h, 2 not in h, len(h)"
   ]
  },
  {
   "cell_type": "code",
   "execution_count": null,
   "id": "36d3c985-89cb-4c51-81ab-b18890fc7d61",
   "metadata": {},
   "outputs": [],
   "source": [
    "h.add(1337)\n",
    "h"
   ]
  },
  {
   "cell_type": "code",
   "execution_count": null,
   "id": "94824df4-edd8-48ce-be5f-efc7a7501154",
   "metadata": {},
   "outputs": [],
   "source": [
    "h2 = {2, 4, \"Python\"}\n",
    "h.intersection(h2), h & h2, h | h2, h - h2"
   ]
  },
  {
   "cell_type": "code",
   "execution_count": null,
   "id": "286db713-36e7-4872-8b88-6f806b8d105e",
   "metadata": {},
   "outputs": [],
   "source": [
    "h.remove(1337)\n",
    "h"
   ]
  },
  {
   "cell_type": "markdown",
   "id": "9acc2fc4-0ded-4136-bbb0-d26b02d9b8f8",
   "metadata": {},
   "source": [
    "### Словари"
   ]
  },
  {
   "cell_type": "code",
   "execution_count": null,
   "id": "63c81270-b1ae-45bd-8903-b7ca0bf6c74f",
   "metadata": {},
   "outputs": [],
   "source": [
    "{}, dict(), type({})"
   ]
  },
  {
   "cell_type": "code",
   "execution_count": null,
   "id": "0b86f3f1-867a-4498-a357-99aaa2cad97f",
   "metadata": {},
   "outputs": [],
   "source": [
    "d = {\"1\": 2, 2: \"3\", 3j: \"Python\"}\n",
    "d, len(d)"
   ]
  },
  {
   "cell_type": "code",
   "execution_count": null,
   "id": "4028cdbb-24eb-4e25-87f1-e8bf48e34404",
   "metadata": {},
   "outputs": [],
   "source": [
    "d[\"1\"], d.get(2), d.get(3), d.get(3, \"1337\")"
   ]
  },
  {
   "cell_type": "code",
   "execution_count": null,
   "id": "756f0517-0e51-4729-81a7-a70583993a24",
   "metadata": {},
   "outputs": [],
   "source": [
    "del d[2]\n",
    "d"
   ]
  },
  {
   "cell_type": "code",
   "execution_count": null,
   "id": "05ab41d2-3c17-458f-bfb1-5cb4b6dc5dd3",
   "metadata": {},
   "outputs": [],
   "source": [
    "d.keys()"
   ]
  },
  {
   "cell_type": "code",
   "execution_count": null,
   "id": "2d26d5ae-de9d-41f0-a647-7b269be2627f",
   "metadata": {},
   "outputs": [],
   "source": [
    "d.values()"
   ]
  },
  {
   "cell_type": "code",
   "execution_count": null,
   "id": "7d578a96-4cf6-4c9a-800e-a44cfd03abd1",
   "metadata": {},
   "outputs": [],
   "source": [
    "d.items()"
   ]
  },
  {
   "cell_type": "markdown",
   "id": "d539317a-8477-4d71-a670-c8cb583f4984",
   "metadata": {
    "jp-MarkdownHeadingCollapsed": true
   },
   "source": [
    "### Резюме по типам\n",
    "- None\n",
    "- логические (True, False)\n",
    "- числовые (int, float, complex)\n",
    "- строковые (str, bytes)\n",
    "- изменяемые контейнеры (list, set, dict)\n",
    "- неизменяемый контейнер (tuple) "
   ]
  },
  {
   "cell_type": "markdown",
   "id": "b5201552-e2e3-457a-b50a-0065fcda9f9c",
   "metadata": {},
   "source": [
    "## Управляющие конструкции"
   ]
  },
  {
   "cell_type": "markdown",
   "id": "7de7299e-37cd-4c49-b292-2d272c4e98d5",
   "metadata": {},
   "source": [
    "### if"
   ]
  },
  {
   "cell_type": "code",
   "execution_count": null,
   "id": "29e2166e-1e45-4461-9da4-46eb30034f41",
   "metadata": {},
   "outputs": [],
   "source": [
    "x = 1337\n",
    "if x % 5 == 0:\n",
    "    print(\"fizz\")\n",
    "elif x % 3 == 0:\n",
    "    print(\"buzz\")\n",
    "else:\n",
    "    pass"
   ]
  },
  {
   "cell_type": "code",
   "execution_count": null,
   "id": "5f4ef51d-d131-41ec-84fc-bbf0b0fadf2d",
   "metadata": {},
   "outputs": [],
   "source": [
    "x = 1337 if 2 ** 10 > 3 ** 6 else 42  # тернарный оператор\n",
    "x"
   ]
  },
  {
   "cell_type": "markdown",
   "id": "a8d1501c-1bdc-482c-8ae4-8106ba4e23f1",
   "metadata": {},
   "source": [
    "### for и while"
   ]
  },
  {
   "cell_type": "code",
   "execution_count": null,
   "id": "5b03d5b4-d114-4b92-83c2-f3bbd1072323",
   "metadata": {},
   "outputs": [],
   "source": [
    "words = [\"cat\", \"window\", \"defenestrate\"]\n",
    "for w in words:\n",
    "    print(w)"
   ]
  },
  {
   "cell_type": "code",
   "execution_count": null,
   "id": "4f234f93-69f9-469d-a7cf-543237f7f6ce",
   "metadata": {},
   "outputs": [],
   "source": [
    "for ch in s:\n",
    "    print(ch, end=\"_\")"
   ]
  },
  {
   "cell_type": "code",
   "execution_count": null,
   "id": "4733e6ca-af2e-4ab2-af58-34f8a03dd755",
   "metadata": {},
   "outputs": [],
   "source": [
    "k = 0\n",
    "while True:\n",
    "    if k >= len(words):\n",
    "        break\n",
    "\n",
    "    if 3 < len(words[k]) < 12:\n",
    "        k += 1\n",
    "        continue\n",
    "\n",
    "    print(words[k])\n",
    "    k += 1"
   ]
  },
  {
   "cell_type": "code",
   "execution_count": null,
   "id": "7be8e2f6-fc7d-4d3b-851b-adee842406c2",
   "metadata": {},
   "outputs": [],
   "source": [
    "while False:\n",
    "    pass\n",
    "else:\n",
    "    print(\"???\")"
   ]
  },
  {
   "cell_type": "markdown",
   "id": "8bbffdb6-0fd1-4c40-9302-f661fc6ad6e8",
   "metadata": {},
   "source": [
    "### range и reversed"
   ]
  },
  {
   "cell_type": "code",
   "execution_count": null,
   "id": "04e4cc96-2d49-49ac-b10a-1d447481b3b3",
   "metadata": {},
   "outputs": [],
   "source": [
    "for k in range(1, 10, 3):\n",
    "    print(k)"
   ]
  },
  {
   "cell_type": "code",
   "execution_count": null,
   "id": "fe879fc4-e963-4d2f-80a3-7096312238c3",
   "metadata": {},
   "outputs": [],
   "source": [
    "print(range(3), len(range(3)))"
   ]
  },
  {
   "cell_type": "code",
   "execution_count": null,
   "id": "dcf8de7d-728d-40d8-8f65-0771d092f015",
   "metadata": {},
   "outputs": [],
   "source": [
    "list(range(12))"
   ]
  },
  {
   "cell_type": "code",
   "execution_count": null,
   "id": "60e36813-336d-4b73-ae0b-15bd2f7bb726",
   "metadata": {},
   "outputs": [],
   "source": [
    "for k in reversed(range(1, 10, 3)):\n",
    "    print(k)"
   ]
  },
  {
   "cell_type": "markdown",
   "id": "f21e5b8d-3ccd-43ce-8d78-8397c84ac8c0",
   "metadata": {},
   "source": [
    "## Функции"
   ]
  },
  {
   "cell_type": "markdown",
   "id": "066ebd58-8f80-4d7a-942e-6208d19f9bb3",
   "metadata": {},
   "source": [
    "### Базовый синтаксис"
   ]
  },
  {
   "cell_type": "code",
   "execution_count": null,
   "id": "1871ede6-1d8b-42dd-9074-4fa6b981b9d2",
   "metadata": {},
   "outputs": [],
   "source": [
    "def tmp():\n",
    "    print(\"Done\")\n",
    "     # return не нужен, None по умолчанию\n",
    "\n",
    "print(tmp), print(tmp()) "
   ]
  },
  {
   "cell_type": "code",
   "execution_count": null,
   "id": "ebf77e48-8614-4019-8553-9e588421d599",
   "metadata": {},
   "outputs": [],
   "source": [
    "def fib(n=0):\n",
    "    \"\"\"Выводит все числа Фибоначчи вплоть до n.\n",
    "\n",
    "    ...\n",
    "    \"\"\"\n",
    "    a, b = 0, 1\n",
    "    while a < n:\n",
    "        print(a, end=\" \")\n",
    "        a, b = b, a + b\n",
    "\n",
    "    print()\n",
    "\n",
    "\n",
    "fib(n=1000)"
   ]
  },
  {
   "cell_type": "code",
   "execution_count": null,
   "id": "6bacc19d-fc8a-49aa-a01f-429c3d817de9",
   "metadata": {},
   "outputs": [],
   "source": [
    "fib.__doc__"
   ]
  },
  {
   "cell_type": "code",
   "execution_count": null,
   "id": "0d441841-b5c6-4605-8817-5160047c3702",
   "metadata": {},
   "outputs": [],
   "source": [
    "fib(k=1000)"
   ]
  },
  {
   "cell_type": "markdown",
   "id": "f87a360e-25d7-409a-a07c-05c7a08fcae3",
   "metadata": {},
   "source": [
    "### Упаковка и распаковка аргументов"
   ]
  },
  {
   "cell_type": "code",
   "execution_count": null,
   "id": "af3a2794-b416-4e1d-a425-2846992536dc",
   "metadata": {},
   "outputs": [],
   "source": [
    "def min(*args): # type(args) == tuple.\n",
    "    res = float(\"inf\")\n",
    "    for arg in args:\n",
    "        if arg < res:\n",
    "            res = arg\n",
    "\n",
    "    return res\n",
    "\n",
    "\n",
    "min(1, -2, 3, 4), min()"
   ]
  },
  {
   "cell_type": "code",
   "execution_count": null,
   "id": "d900951f-9f6d-4fd1-b410-19ccaf8ba090",
   "metadata": {},
   "outputs": [],
   "source": [
    "def min(first, *args):\n",
    "    res = first\n",
    "    for arg in (first,) + args:\n",
    "        if arg < res:\n",
    "            res = arg\n",
    "\n",
    "    return res\n",
    "\n",
    "\n",
    "min()"
   ]
  },
  {
   "cell_type": "code",
   "execution_count": null,
   "id": "52d34bdc-f60c-4e06-b2be-f27f7132357c",
   "metadata": {},
   "outputs": [],
   "source": [
    "min(*{1, 2, 3, -5})"
   ]
  },
  {
   "cell_type": "code",
   "execution_count": null,
   "id": "c934f5a9-563e-4a11-b4f3-ac176a756520",
   "metadata": {},
   "outputs": [],
   "source": [
    "def bounded_min(first, *args, lo=float(\"-inf\"), hi=float(\"inf\")):\n",
    "    res = first\n",
    "    for arg in args:\n",
    "        if arg < res and lo < arg < hi:\n",
    "            res = arg\n",
    "\n",
    "    return max(res, lo)\n",
    "\n",
    "\n",
    "bounded_min(*[-5, 4, -3, 2, -10, 1], lo=-6, hi=5)"
   ]
  },
  {
   "cell_type": "code",
   "execution_count": null,
   "id": "800cc8a4-f9e9-4986-bbea-3968fe8d7ab4",
   "metadata": {},
   "outputs": [],
   "source": [
    "def foo(*args, **kwargs):\n",
    "    print(args, kwargs)\n",
    "\n",
    "\n",
    "foo(1, 2, 3, **{\"foo\": 42})"
   ]
  },
  {
   "cell_type": "code",
   "execution_count": null,
   "id": "cf34efa5-08e0-4313-b50a-a8521ee193b5",
   "metadata": {},
   "outputs": [],
   "source": [
    "a, b, c = [2, 3, 4]\n",
    "a, b, c"
   ]
  },
  {
   "cell_type": "code",
   "execution_count": null,
   "id": "4b900ec3-23a7-4519-a82c-ef6419036e17",
   "metadata": {},
   "outputs": [],
   "source": [
    "a, b, c = {3, 2, 4}\n",
    "a, b, c"
   ]
  },
  {
   "cell_type": "code",
   "execution_count": null,
   "id": "0b3814b0-7e1b-4971-b212-e91b5a26ad22",
   "metadata": {},
   "outputs": [],
   "source": [
    "first, *rest = range(1, 5)\n",
    "first, rest"
   ]
  },
  {
   "cell_type": "markdown",
   "id": "4e72017f-7f2b-4bca-a84c-aca380fbf0b6",
   "metadata": {},
   "source": [
    "### Элементы функционального программирования\n",
    "\n",
    "python не функциональный язык, но имеет элементы функционального программирования"
   ]
  },
  {
   "cell_type": "code",
   "execution_count": null,
   "id": "ac8cc6e6-716b-4e89-a2a6-86456500d5c1",
   "metadata": {},
   "outputs": [],
   "source": [
    "func = lambda x, pow=2: x ** pow  # пример анонимной функции\n",
    "\n",
    "func(2, 10)"
   ]
  },
  {
   "cell_type": "code",
   "execution_count": null,
   "id": "4ce28461-c52b-4622-ac63-f56a048e9acf",
   "metadata": {},
   "outputs": [],
   "source": [
    "xs = range(11)\n",
    "res = map(func, xs)  # map применяет функцию к каждому элементу последовательности\n",
    "res, list(res)"
   ]
  },
  {
   "cell_type": "code",
   "execution_count": null,
   "id": "a496171c-eef0-491e-af9f-d1955cac51f0",
   "metadata": {},
   "outputs": [],
   "source": [
    "set(filter(lambda x: x % 3 == 0, xs))  # удаляет из последовательности элементы, не удовлетворяющие предикату"
   ]
  },
  {
   "cell_type": "code",
   "execution_count": null,
   "id": "ca7ad403-aa27-4429-aa54-2177b5f09ede",
   "metadata": {},
   "outputs": [],
   "source": [
    "list(zip(xs, map(func, xs)))  # zip собирает кортежи из нескольки последовательностей"
   ]
  },
  {
   "cell_type": "code",
   "execution_count": null,
   "id": "f1183b6d-cb09-4624-a2b7-bb46d8b06f45",
   "metadata": {},
   "outputs": [],
   "source": [
    "[x ** 2 for x in range(17) if x % 3 == 2]  # list comprehension"
   ]
  },
  {
   "cell_type": "code",
   "execution_count": null,
   "id": "440215d5-0079-4eb6-b627-7632ad09ae75",
   "metadata": {},
   "outputs": [],
   "source": [
    "{x: x ** 2 for x in range(17) if x % 3 == 2}  # dict comprehension"
   ]
  },
  {
   "cell_type": "markdown",
   "id": "2388d3cb-dffe-45ee-88d5-d67dbd0387b5",
   "metadata": {},
   "source": [
    "### Декораторы"
   ]
  },
  {
   "cell_type": "markdown",
   "id": "ddc7a635-fbac-4b98-991c-c6fbf24fba6f",
   "metadata": {},
   "source": [
    "Декоратор — способ модифицировать поведение функции, сохраняя читаемость кода."
   ]
  },
  {
   "cell_type": "code",
   "execution_count": null,
   "id": "30be4812-0494-431c-8a5a-c6f971edfef2",
   "metadata": {},
   "outputs": [],
   "source": [
    "def memoized(func):\n",
    "    cache = {}\n",
    "    \n",
    "    def inner(*args, **kwargs):\n",
    "        key = f\"{args}__{kwargs}\"\n",
    "        if key not in cache:\n",
    "            cache[key] = func(*args, **kwargs)\n",
    "\n",
    "        return cache[key]\n",
    "\n",
    "    return inner\n",
    "\n",
    "\n",
    "func_memo = memoized(func)\n",
    "func(2)"
   ]
  },
  {
   "cell_type": "code",
   "execution_count": null,
   "id": "18357f7e-38a6-4f0d-bbb3-75662ebed940",
   "metadata": {},
   "outputs": [],
   "source": [
    "@memoized\n",
    "def fib(n=0):\n",
    "    \"\"\"Находит n-ое число Фибоначчи.\"\"\"\n",
    "    print(\"GOTCHA\", end=\" \")\n",
    "    a, b = 0, 1\n",
    "    while n > 0:\n",
    "        a, b = b, a + b\n",
    "        n -= 1\n",
    "\n",
    "    return a\n",
    "\n",
    "\n",
    "for k in range(10):\n",
    "    print(fib(k), end=\" \")"
   ]
  },
  {
   "cell_type": "code",
   "execution_count": null,
   "id": "032ff786-0f11-45de-a5fd-6175d422846a",
   "metadata": {},
   "outputs": [],
   "source": [
    "for k in range(10):\n",
    "    print(fib(k), end=\" \")"
   ]
  },
  {
   "cell_type": "markdown",
   "id": "339ff67f-1fec-4719-90b9-9aea52b2509e",
   "metadata": {},
   "source": [
    "## Кратко про модули и пакеты"
   ]
  },
  {
   "cell_type": "code",
   "execution_count": null,
   "id": "32f9a1b7-9323-4468-8ec1-df36b29d187a",
   "metadata": {},
   "outputs": [],
   "source": [
    "import os  # импорт пакета/модуля\n",
    "from os import getcwd as cwd  # выборочный импорт\n",
    "\n",
    "\n",
    "cwd(), os.getcwd()"
   ]
  },
  {
   "cell_type": "code",
   "execution_count": null,
   "id": "7b47f96d-d54c-4538-9653-bdcf0fdf4312",
   "metadata": {},
   "outputs": [],
   "source": [
    "from collections import defaultdict\n",
    "\n",
    "\n",
    "d = defaultdict(list)\n",
    "d[0].append(1)\n",
    "d, d[0]"
   ]
  },
  {
   "cell_type": "markdown",
   "id": "e1a03f4d-8302-438e-9153-174141d3a9fa",
   "metadata": {},
   "source": [
    "## Классы"
   ]
  },
  {
   "cell_type": "markdown",
   "id": "3770a113-5ae8-4e35-aa0a-cd43ee942a67",
   "metadata": {},
   "source": [
    "### Синтаксис"
   ]
  },
  {
   "cell_type": "code",
   "execution_count": null,
   "id": "ba423820-23ce-4a3d-9f83-931a8fcd73b8",
   "metadata": {},
   "outputs": [],
   "source": [
    "class Person:  # class Person(object) -- все классы по дефолту наследуются от класса object\n",
    "    \"\"\"ЯПерсона.\"\"\"\n",
    "    \n",
    "    counter = 0  # атрибут класса\n",
    "    \n",
    "    def __init__(self, name, phone_number, interests):  # конструктор класса\n",
    "        # self -- первый аргумент всех методов (за исключением статичных) принято называть именно так\n",
    "        # хотя никто не мешает назвать его иначе, лучше так не делать -- целее будете\n",
    "        self.name = name  # запись атрибута экземпляра/инстанса класса\n",
    "        self.phone_number = phone_number\n",
    "        self.interests = interests\n",
    "\n",
    "        Person.counter += 1\n",
    "\n",
    "    def get_name(self):  \n",
    "        return self.name\n",
    "\n",
    "    def __repr__(self):\n",
    "        return f\"Person({self.name})\""
   ]
  },
  {
   "cell_type": "code",
   "execution_count": null,
   "id": "ef8b74f9-d840-4bd0-849a-613b8801c260",
   "metadata": {},
   "outputs": [],
   "source": [
    "person1 = Person(name=\"Andrew\", phone_number=\"8-XXX-XXX-XX-XX\", interests=\"???\")\n",
    "person1"
   ]
  },
  {
   "cell_type": "code",
   "execution_count": null,
   "id": "2f46d4e1-7ff8-4eb5-ab3b-e0fcccf7a8d9",
   "metadata": {},
   "outputs": [],
   "source": [
    "Person.counter"
   ]
  },
  {
   "cell_type": "code",
   "execution_count": null,
   "id": "2b305816-7edd-49b6-877a-ac8c605937cf",
   "metadata": {},
   "outputs": [],
   "source": [
    "person1.get_name(), person1.name"
   ]
  },
  {
   "cell_type": "code",
   "execution_count": null,
   "id": "1413c398-95f2-4a70-92bf-aebe4386d2c6",
   "metadata": {},
   "outputs": [],
   "source": [
    "Person.all_persons = [person1]  # динамичненько!"
   ]
  },
  {
   "cell_type": "markdown",
   "id": "718d08d3-f0dc-42df-aea9-2aa075b3c2f9",
   "metadata": {},
   "source": [
    "### Внутренние атрибуты классов и экземляров"
   ]
  },
  {
   "cell_type": "code",
   "execution_count": null,
   "id": "fef38901-ac67-46b0-add1-4e9264874117",
   "metadata": {},
   "outputs": [],
   "source": [
    "Person.__doc__, Person.__name__, Person.__module__, Person.__bases__"
   ]
  },
  {
   "cell_type": "code",
   "execution_count": null,
   "id": "6bce1c8c-fc76-4c43-b34c-4e367e096a8e",
   "metadata": {},
   "outputs": [],
   "source": [
    "person1.__class__, person1.__dict__, vars(person1)"
   ]
  },
  {
   "cell_type": "code",
   "execution_count": null,
   "id": "2ba10322-6fd7-46e9-9dc0-7a11edcec934",
   "metadata": {},
   "outputs": [],
   "source": [
    "Person.__class__, Person.__dict__"
   ]
  },
  {
   "cell_type": "markdown",
   "id": "204a396c-18e3-4f62-b65a-23d324ec0f12",
   "metadata": {},
   "source": [
    "### Наследование"
   ]
  },
  {
   "cell_type": "code",
   "execution_count": null,
   "id": "27642117-91b4-489f-af5b-77f44214488f",
   "metadata": {},
   "outputs": [],
   "source": [
    "class Teacher(Person):\n",
    "    def __init__(self, name, phone_number, interests, courses):\n",
    "        super().__init__(name, phone_number, interests)\n",
    "        \n",
    "        self.courses = courses\n",
    "\n",
    "\n",
    "teacher = Teacher(name=\"Dmitry\", phone_number=\"8-XXX-XXX-XX-XX\", interests=\"None\", courses=[\"ml101\"])"
   ]
  },
  {
   "cell_type": "code",
   "execution_count": null,
   "id": "b8a3025b-a6e0-47b1-9f72-1143945d77c7",
   "metadata": {},
   "outputs": [],
   "source": [
    "teacher.counter"
   ]
  },
  {
   "cell_type": "code",
   "execution_count": null,
   "id": "4f8f1210-4c6d-4727-8bcd-f3a62955643d",
   "metadata": {},
   "outputs": [],
   "source": [
    "isinstance(teacher, Teacher)"
   ]
  },
  {
   "cell_type": "code",
   "execution_count": null,
   "id": "0c73bc69-42f5-4ff7-aaad-675b4e83b52d",
   "metadata": {},
   "outputs": [],
   "source": [
    "isinstance(teacher, Person)"
   ]
  },
  {
   "cell_type": "code",
   "execution_count": null,
   "id": "1473286f-ef68-4e41-9916-e6b006fa967a",
   "metadata": {},
   "outputs": [],
   "source": [
    "issubclass(Person, Teacher)"
   ]
  },
  {
   "cell_type": "markdown",
   "id": "418f820d-6933-41ce-946d-bd3bc3a81300",
   "metadata": {},
   "source": [
    "### Декоратор класса"
   ]
  },
  {
   "cell_type": "code",
   "execution_count": null,
   "id": "47437408-bb27-4104-9580-56a35605ba61",
   "metadata": {},
   "outputs": [],
   "source": [
    "from dataclasses import dataclass\n",
    "\n",
    "@dataclass  # декоратор класса\n",
    "class Student:\n",
    "    name: str\n",
    "    phone_number: str\n",
    "    interests: str\n",
    "    group: str\n",
    "\n",
    "\n",
    "student = Student(name=\"Dmitry\", phone_number=\"8-XXX-XXX-XX-XX\", interests=\"???\", group=\"21.Б06-пу\")\n",
    "student"
   ]
  },
  {
   "cell_type": "code",
   "execution_count": null,
   "id": "a72d96e9-46de-45ce-ad45-8e65daeb902f",
   "metadata": {},
   "outputs": [],
   "source": []
  }
 ],
 "metadata": {
  "kernelspec": {
   "display_name": "Python 3 (ipykernel)",
   "language": "python",
   "name": "python3"
  },
  "language_info": {
   "codemirror_mode": {
    "name": "ipython",
    "version": 3
   },
   "file_extension": ".py",
   "mimetype": "text/x-python",
   "name": "python",
   "nbconvert_exporter": "python",
   "pygments_lexer": "ipython3",
   "version": "3.10.7"
  }
 },
 "nbformat": 4,
 "nbformat_minor": 5
}
