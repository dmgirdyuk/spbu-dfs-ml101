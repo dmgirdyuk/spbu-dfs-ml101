{
 "cells": [
  {
   "cell_type": "markdown",
   "metadata": {
    "id": "SoWTnBQpuc6s"
   },
   "source": [
    "# Решающие деревья\n",
    "\n",
    "Авторы: Гирдюк Дмитрий, Никольская Анастасия"
   ]
  },
  {
   "cell_type": "code",
   "execution_count": null,
   "metadata": {
    "executionInfo": {
     "elapsed": 1316,
     "status": "ok",
     "timestamp": 1680806803375,
     "user": {
      "displayName": "Анастасия Никольская",
      "userId": "05163973069761496365"
     },
     "user_tz": -180
    },
    "id": "6B-GvTsIuc6v"
   },
   "outputs": [],
   "source": [
    "import random\n",
    "\n",
    "import matplotlib\n",
    "import matplotlib.pyplot as plt\n",
    "import numpy as np\n",
    "import pandas\n",
    "import pandas as pd\n",
    "import yaml\n",
    "from matplotlib.colors import ListedColormap\n",
    "from mushrooms_data_engineering import prepare_mushrooms_data\n",
    "from sklearn import metrics\n",
    "from sklearn.datasets import make_circles, make_blobs, make_classification, make_moons\n",
    "from sklearn.discriminant_analysis import QuadraticDiscriminantAnalysis\n",
    "from sklearn.inspection import DecisionBoundaryDisplay\n",
    "from sklearn.linear_model import LogisticRegression\n",
    "from sklearn.metrics import (\n",
    "    accuracy_score,\n",
    "    classification_report,\n",
    "    confusion_matrix,\n",
    "    precision_score,\n",
    "    recall_score,\n",
    "    roc_auc_score,\n",
    ")\n",
    "from sklearn.model_selection import train_test_split\n",
    "from sklearn.pipeline import make_pipeline\n",
    "from sklearn.preprocessing import StandardScaler\n",
    "from sklearn.tree import DecisionTreeClassifier, plot_tree\n",
    "from wdbc_data_engineering import prepare_wdbc_data\n",
    "\n",
    "\n",
    "SEED = 314159\n",
    "TRAIN_TEST_SPLIT = 0.80\n",
    "\n",
    "\n",
    "with open(\"../config.yaml\", \"r\") as f:\n",
    "    cfg = yaml.safe_load(f)"
   ]
  },
  {
   "cell_type": "markdown",
   "metadata": {},
   "source": [
    "### Препроцессинг"
   ]
  },
  {
   "cell_type": "markdown",
   "metadata": {},
   "source": [
    "#### WDBC"
   ]
  },
  {
   "cell_type": "code",
   "execution_count": null,
   "metadata": {
    "executionInfo": {
     "elapsed": 177,
     "status": "ok",
     "timestamp": 1680817825094,
     "user": {
      "displayName": "Анастасия Никольская",
      "userId": "05163973069761496365"
     },
     "user_tz": -180
    },
    "id": "5E0hcqBYW-qU"
   },
   "outputs": [],
   "source": [
    "df_wdbc = pd.read_csv(cfg[\"wdbc\"])\n",
    "\n",
    "y_wdbc = df_wdbc[[\"diagnosis\"]].replace({\"B\": 0, \"M\": 1})\n",
    "df_wdbc.drop(columns=[\"id\", \"Unnamed: 32\", \"diagnosis\"], inplace=True)\n",
    "\n",
    "df_wdbc_train, df_wdbc_test, y_wdbc_train, y_wdbc_test = train_test_split(\n",
    "    df_wdbc, y_wdbc, test_size=1 - TRAIN_TEST_SPLIT, random_state=SEED\n",
    ")\n",
    "\n",
    "df_wdbc_train, df_wdbc_test = prepare_wdbc_data(\n",
    "    df_train=df_wdbc_train, df_test=df_wdbc_test\n",
    ")"
   ]
  },
  {
   "cell_type": "markdown",
   "metadata": {},
   "source": [
    "#### Mushrooms"
   ]
  },
  {
   "cell_type": "code",
   "execution_count": null,
   "metadata": {},
   "outputs": [],
   "source": [
    "df_m = pd.read_csv(cfg[\"mushrooms\"])\n",
    "\n",
    "y_m = df_m[[\"class\"]].replace({\"e\": 0, \"p\": 1})\n",
    "df_m.drop(columns=[\"class\"], inplace=True)\n",
    "\n",
    "df_m_train, df_m_test, y_m_train, y_m_test = train_test_split(\n",
    "    df_m, y_m, test_size=1 - TRAIN_TEST_SPLIT, random_state=SEED\n",
    ")\n",
    "\n",
    "df_m_train, df_m_test = prepare_mushrooms_data(df_train=df_m_train, df_test=df_m_test)"
   ]
  },
  {
   "cell_type": "markdown",
   "metadata": {
    "id": "BeuhOECPEPrM"
   },
   "source": [
    "### Решающее дерево для WDBC"
   ]
  },
  {
   "cell_type": "code",
   "execution_count": null,
   "metadata": {
    "colab": {
     "base_uri": "https://localhost:8080/",
     "height": 74
    },
    "executionInfo": {
     "elapsed": 270,
     "status": "ok",
     "timestamp": 1680812130679,
     "user": {
      "displayName": "Анастасия Никольская",
      "userId": "05163973069761496365"
     },
     "user_tz": -180
    },
    "id": "qWiqUbbgCzX1",
    "outputId": "01dfed79-8c0a-46d5-f0c8-64933da4d734"
   },
   "outputs": [],
   "source": [
    "dt_wdbc = DecisionTreeClassifier(max_depth=5, min_samples_leaf=30, random_state=SEED)\n",
    "dt_wdbc.fit(df_wdbc_train, y_wdbc_train)\n",
    "print(\n",
    "    \"Test accuracy:\",\n",
    "    dt_wdbc.score(df_wdbc_test, y_wdbc_test),\n",
    "    \"Test ROCAUC:\",\n",
    "    roc_auc_score(y_wdbc_test, dt_wdbc.predict_proba(df_wdbc_test)[:, 1]),\n",
    ")"
   ]
  },
  {
   "cell_type": "markdown",
   "metadata": {},
   "source": [
    "В модуле `sklearn.tree` реализована функция для отрисовки обученного дерева:"
   ]
  },
  {
   "cell_type": "code",
   "execution_count": null,
   "metadata": {
    "colab": {
     "base_uri": "https://localhost:8080/",
     "height": 770
    },
    "executionInfo": {
     "elapsed": 2389,
     "status": "ok",
     "timestamp": 1680812134762,
     "user": {
      "displayName": "Анастасия Никольская",
      "userId": "05163973069761496365"
     },
     "user_tz": -180
    },
    "id": "b3b82rHXEGpt",
    "outputId": "89bf3d8f-d0ce-4e6e-b38f-fdff5b85d152"
   },
   "outputs": [],
   "source": [
    "fig, ax = plt.subplots(1, 1, figsize=(12, 8))\n",
    "plot_tree(dt_wdbc, ax=ax);"
   ]
  },
  {
   "cell_type": "markdown",
   "metadata": {},
   "source": [
    "Рассмотрим другие значения гиперпараметров."
   ]
  },
  {
   "cell_type": "code",
   "execution_count": null,
   "metadata": {
    "executionInfo": {
     "elapsed": 9,
     "status": "ok",
     "timestamp": 1680812134762,
     "user": {
      "displayName": "Анастасия Никольская",
      "userId": "05163973069761496365"
     },
     "user_tz": -180
    },
    "id": "8cHKX6wPYny4"
   },
   "outputs": [],
   "source": [
    "dt_wdbc_gini = DecisionTreeClassifier(criterion=\"gini\", max_depth=3, random_state=SEED)\n",
    "fig, ax = plt.subplots(1, 1, figsize=(12, 8))\n",
    "plot_tree(dt_wdbc_gini.fit(df_wdbc_train, y_wdbc_train), ax=ax);"
   ]
  },
  {
   "cell_type": "code",
   "execution_count": null,
   "metadata": {
    "colab": {
     "base_uri": "https://localhost:8080/"
    },
    "executionInfo": {
     "elapsed": 4,
     "status": "ok",
     "timestamp": 1680812135105,
     "user": {
      "displayName": "Анастасия Никольская",
      "userId": "05163973069761496365"
     },
     "user_tz": -180
    },
    "id": "QuoOxHSZYwdt",
    "outputId": "001a9d5c-22ee-48c3-a955-0b3a0f64f8a3"
   },
   "outputs": [],
   "source": [
    "print(\n",
    "    \"Train accuracy: {0:0.4f}\".format(dt_wdbc_gini.score(df_wdbc_train, y_wdbc_train))\n",
    ")\n",
    "print(\"Test accuracy: {0:0.4f}\".format(dt_wdbc_gini.score(df_wdbc_test, y_wdbc_test)))"
   ]
  },
  {
   "cell_type": "markdown",
   "metadata": {},
   "source": [
    "Попробуем вместо критерия Джини использовать энтропию."
   ]
  },
  {
   "cell_type": "code",
   "execution_count": null,
   "metadata": {
    "colab": {
     "base_uri": "https://localhost:8080/",
     "height": 688
    },
    "executionInfo": {
     "elapsed": 1163,
     "status": "ok",
     "timestamp": 1680812136265,
     "user": {
      "displayName": "Анастасия Никольская",
      "userId": "05163973069761496365"
     },
     "user_tz": -180
    },
    "id": "FLjsucJqYwgH",
    "outputId": "d4a9847c-0e58-44d6-d99c-623054fa38f4"
   },
   "outputs": [],
   "source": [
    "dt_wdbc_ent = DecisionTreeClassifier(\n",
    "    criterion=\"entropy\", max_depth=3, random_state=SEED\n",
    ")\n",
    "fig, ax = plt.subplots(1, 1, figsize=(12, 8))\n",
    "plot_tree(dt_wdbc_ent.fit(df_wdbc_train, y_wdbc_train), ax=ax);"
   ]
  },
  {
   "cell_type": "code",
   "execution_count": null,
   "metadata": {
    "colab": {
     "base_uri": "https://localhost:8080/"
    },
    "executionInfo": {
     "elapsed": 9,
     "status": "ok",
     "timestamp": 1680812136266,
     "user": {
      "displayName": "Анастасия Никольская",
      "userId": "05163973069761496365"
     },
     "user_tz": -180
    },
    "id": "s3WrW3J9Ywit",
    "outputId": "a1e38492-5b67-4936-d2c7-92a1731bf5e8"
   },
   "outputs": [],
   "source": [
    "print(\"Train accuracy: {:.4f}\".format(dt_wdbc_ent.score(df_wdbc_train, y_wdbc_train)))\n",
    "print(\"Test accuracy: {:.4f}\".format(dt_wdbc_ent.score(df_wdbc_test, y_wdbc_test)))"
   ]
  },
  {
   "cell_type": "markdown",
   "metadata": {},
   "source": [
    "### Решающее дерево для Mushrooms"
   ]
  },
  {
   "cell_type": "code",
   "execution_count": null,
   "metadata": {},
   "outputs": [],
   "source": [
    "dt_m = DecisionTreeClassifier(max_depth=5, min_samples_leaf=30, random_state=SEED)\n",
    "fig, ax = plt.subplots(1, 1, figsize=(12, 8))\n",
    "plot_tree(dt_m.fit(df_m_train, y_m_train), ax=ax);"
   ]
  },
  {
   "cell_type": "code",
   "execution_count": null,
   "metadata": {},
   "outputs": [],
   "source": [
    "print(\"Train accuracy: {0:0.4f}\".format(dt_m.score(df_m_train, y_m_train)))\n",
    "print(\"Test accuracy: {0:0.4f}\".format(dt_m.score(df_m_test, y_m_test)))"
   ]
  },
  {
   "cell_type": "markdown",
   "metadata": {},
   "source": [
    "### Разделяющие границы"
   ]
  },
  {
   "cell_type": "code",
   "execution_count": null,
   "metadata": {
    "colab": {
     "base_uri": "https://localhost:8080/",
     "height": 490
    },
    "executionInfo": {
     "elapsed": 3703,
     "status": "ok",
     "timestamp": 1680816307394,
     "user": {
      "displayName": "Анастасия Никольская",
      "userId": "05163973069761496365"
     },
     "user_tz": -180
    },
    "id": "paqkcELkGWQW",
    "outputId": "bf75f2f0-4ab4-461b-f8d2-daffd66ba1bf"
   },
   "outputs": [],
   "source": [
    "classifiers = {\n",
    "    \"DT_basic_3\": DecisionTreeClassifier(max_depth=3, random_state=SEED),\n",
    "    \"DT_basic_5_no_min\": DecisionTreeClassifier(max_depth=5, random_state=SEED),\n",
    "    \"DT_basic_5\": DecisionTreeClassifier(\n",
    "        max_depth=5, min_samples_leaf=30, random_state=SEED\n",
    "    ),\n",
    "    \"DT_gini_5\": DecisionTreeClassifier(\n",
    "        max_depth=5, criterion=\"gini\", min_samples_leaf=30, random_state=SEED\n",
    "    ),\n",
    "    \"DT_entropy_5\": DecisionTreeClassifier(\n",
    "        max_depth=5, criterion=\"entropy\", min_samples_leaf=30, random_state=SEED\n",
    "    ),\n",
    "    \"DT_entropy_5_no_min\": DecisionTreeClassifier(\n",
    "        max_depth=5, criterion=\"entropy\", random_state=SEED\n",
    "    ),\n",
    "    \"DT_entropy_deep\": DecisionTreeClassifier(\n",
    "        criterion=\"entropy\", min_samples_leaf=30, random_state=SEED\n",
    "    ),\n",
    "    \"DT_gini_deep\": DecisionTreeClassifier(\n",
    "        criterion=\"gini\", min_samples_leaf=30, random_state=SEED\n",
    "    ),\n",
    "}\n",
    "\n",
    "# 2 синтетических датасета\n",
    "X_moons, y_moons = make_moons(n_samples=2000, noise=0.3, random_state=SEED)\n",
    "X_moons_train, X_moons_test, y_moons_train, y_moons_test = train_test_split(\n",
    "    X_moons, y_moons, test_size=1 - TRAIN_TEST_SPLIT, random_state=SEED\n",
    ")\n",
    "X_circles, y_circles = make_circles(\n",
    "    n_samples=2000, noise=0.2, factor=0.3, random_state=SEED\n",
    ")\n",
    "X_circles_train, X_circles_test, y_circles_train, y_circles_test = train_test_split(\n",
    "    X_circles, y_circles, test_size=1 - TRAIN_TEST_SPLIT, random_state=SEED\n",
    ")\n",
    "\n",
    "wdbc_cols = [df_wdbc.columns[20], df_wdbc.columns[27]]\n",
    "m_cols = [df_m.columns[4], df_m.columns[10]]\n",
    "\n",
    "datasets = [\n",
    "    (\n",
    "        df_wdbc_train[wdbc_cols].to_numpy(),\n",
    "        df_wdbc_test[wdbc_cols].to_numpy(),\n",
    "        y_wdbc_train.to_numpy(),\n",
    "        y_wdbc_test.to_numpy(),\n",
    "    ),\n",
    "    (\n",
    "        df_m_train[m_cols].to_numpy(),\n",
    "        df_m_test[m_cols].to_numpy(),\n",
    "        y_m_train.to_numpy(),\n",
    "        y_m_test.to_numpy(),\n",
    "    ),\n",
    "    (X_moons_train, X_moons_test, y_moons_train, y_moons_test),\n",
    "    (X_circles_train, X_circles_test, y_circles_train, y_circles_test),\n",
    "]"
   ]
  },
  {
   "cell_type": "code",
   "execution_count": null,
   "metadata": {},
   "outputs": [],
   "source": [
    "def set_grid(\n",
    "    ax, i: int, j: int, x_min: float, x_max: float, y_min: float, y_max: float\n",
    ") -> None:\n",
    "    ax[i][j].set_xlim(x_min, x_max)\n",
    "    ax[i][j].set_ylim(y_min, y_max)\n",
    "    ax[i][j].set_xticks(())\n",
    "    ax[i][j].set_yticks(())\n",
    "\n",
    "\n",
    "def calculate_borders(X, y) -> tuple[float, float, float, float]:\n",
    "    x_diff = X_train[:, 0].max() - X_train[:, 0].min()\n",
    "    y_diff = X_train[:, 1].max() - X_train[:, 1].min()\n",
    "    x_min, x_max = (\n",
    "        X_train[:, 0].min() - x_diff * 0.1,\n",
    "        X_train[:, 0].max() + x_diff * 0.1,\n",
    "    )\n",
    "    y_min, y_max = (\n",
    "        X_train[:, 1].min() - y_diff * 0.1,\n",
    "        X_train[:, 1].max() + y_diff * 0.1,\n",
    "    )\n",
    "    return x_min, x_max, y_min, y_max"
   ]
  },
  {
   "cell_type": "code",
   "execution_count": null,
   "metadata": {
    "colab": {
     "base_uri": "https://localhost:8080/",
     "height": 699
    },
    "executionInfo": {
     "elapsed": 3629,
     "status": "ok",
     "timestamp": 1680819484929,
     "user": {
      "displayName": "Анастасия Никольская",
      "userId": "05163973069761496365"
     },
     "user_tz": -180
    },
    "id": "QgnU1L1le4O5",
    "outputId": "e256f7d7-6266-4287-a9c2-6756e4ed34b8"
   },
   "outputs": [],
   "source": [
    "fig, ax = plt.subplots(len(datasets), len(classifiers) + 1, figsize=(18, 10))\n",
    "\n",
    "for dataset_idx, data in enumerate(datasets):\n",
    "    X_train, X_test, y_train, y_test = data\n",
    "    x_min, x_max, y_min, y_max = calculate_borders(X_train, y_train)\n",
    "\n",
    "    # Отображаем датасеты\n",
    "    cm = plt.cm.RdBu\n",
    "    cm_bright = ListedColormap([\"#FF0000\", \"#0000FF\"])\n",
    "    if dataset_idx == 0:\n",
    "        ax[dataset_idx][0].set_title(\"Input data\")\n",
    "    ax[dataset_idx][0].scatter(\n",
    "        X_train[:, 0], X_train[:, 1], c=y_train, cmap=cm_bright, edgecolors=\"k\"\n",
    "    )\n",
    "    ax[dataset_idx][0].scatter(\n",
    "        X_test[:, 0], X_test[:, 1], c=y_test, cmap=cm_bright, alpha=0.6, edgecolors=\"k\"\n",
    "    )\n",
    "    set_grid(ax, i=dataset_idx, j=0, x_min=x_min, x_max=x_max, y_min=y_min, y_max=y_max)\n",
    "\n",
    "    # Строим решающие границы\n",
    "    for cls_idx, (name, clf) in enumerate(classifiers.items(), start=1):\n",
    "        clf = make_pipeline(StandardScaler(), clf)\n",
    "        clf.fit(X_train, y_train)\n",
    "        score = clf.score(X_test, y_test)\n",
    "        DecisionBoundaryDisplay.from_estimator(\n",
    "            clf, X_train, cmap=cm, alpha=0.8, ax=ax[dataset_idx][cls_idx], eps=0.5\n",
    "        )\n",
    "\n",
    "        # # Тренировочные данные\n",
    "        # ax[dataset_idx][cls_idx].scatter(\n",
    "        #    X_train[:, 0], X_train[:, 1], c=y_train, cmap=cm_bright, edgecolors=\"k\"\n",
    "        # )\n",
    "\n",
    "        # Тестовые данные\n",
    "        ax[dataset_idx][cls_idx].scatter(\n",
    "            X_test[:, 0],\n",
    "            X_test[:, 1],\n",
    "            c=y_test,\n",
    "            cmap=cm_bright,\n",
    "            edgecolors=\"k\",\n",
    "            alpha=0.6,\n",
    "        )\n",
    "\n",
    "        set_grid(\n",
    "            ax,\n",
    "            i=dataset_idx,\n",
    "            j=cls_idx,\n",
    "            x_min=x_min,\n",
    "            x_max=x_max,\n",
    "            y_min=y_min,\n",
    "            y_max=y_max,\n",
    "        )\n",
    "        if dataset_idx == 0:\n",
    "            ax[dataset_idx][cls_idx].set_title(\n",
    "                name, fontdict={\"fontsize\": 10, \"fontweight\": \"medium\"}\n",
    "            )\n",
    "\n",
    "        ax[dataset_idx][cls_idx].text(\n",
    "            x_max - 0.3,\n",
    "            y_min + 0.3,\n",
    "            (\"%.2f\" % score).lstrip(\"0\"),\n",
    "            size=15,\n",
    "            horizontalalignment=\"right\",\n",
    "        )\n",
    "\n",
    "plt.tight_layout()\n",
    "plt.show()"
   ]
  },
  {
   "cell_type": "markdown",
   "metadata": {},
   "source": [
    "### Мультиклассификация на примере блобов"
   ]
  },
  {
   "cell_type": "code",
   "execution_count": null,
   "metadata": {},
   "outputs": [],
   "source": [
    "X, y = make_blobs(\n",
    "    n_samples=5000,\n",
    "    n_features=2,\n",
    "    centers=[(0, 0), (0, 1), (1, 0)],\n",
    "    cluster_std=0.7,\n",
    "    shuffle=False,\n",
    "    random_state=SEED,\n",
    ")\n",
    "X, y = X[1000:3500], y[1000:3500] + 1\n",
    "dt_blobs = DecisionTreeClassifier(min_samples_leaf=10, random_state=SEED)\n",
    "dt_blobs.fit(X, y)\n",
    "dt_blobs.score(X, y)"
   ]
  },
  {
   "cell_type": "code",
   "execution_count": null,
   "metadata": {},
   "outputs": [],
   "source": [
    "fig, ax = plt.subplots(1, 1, figsize=(10, 6))\n",
    "\n",
    "ax.scatter(X[:, 0], X[:, 1], c=y, edgecolors=\"k\")\n",
    "DecisionBoundaryDisplay.from_estimator(dt_blobs, X, ax=ax, alpha=0.4, eps=0.7);"
   ]
  },
  {
   "cell_type": "code",
   "execution_count": null,
   "metadata": {},
   "outputs": [],
   "source": [
    "print(confusion_matrix(y_true=y, y_pred=dt_blobs.predict(X)))"
   ]
  },
  {
   "cell_type": "code",
   "execution_count": null,
   "metadata": {},
   "outputs": [],
   "source": [
    "print(classification_report(y_true=y, y_pred=dt_blobs.predict(X), labels=[1, 2, 3]))"
   ]
  },
  {
   "cell_type": "code",
   "execution_count": null,
   "metadata": {},
   "outputs": [],
   "source": []
  }
 ],
 "metadata": {
  "colab": {
   "provenance": []
  },
  "kernelspec": {
   "display_name": "Python 3 (ipykernel)",
   "language": "python",
   "name": "python3"
  },
  "language_info": {
   "codemirror_mode": {
    "name": "ipython",
    "version": 3
   },
   "file_extension": ".py",
   "mimetype": "text/x-python",
   "name": "python",
   "nbconvert_exporter": "python",
   "pygments_lexer": "ipython3",
   "version": "3.10.7"
  }
 },
 "nbformat": 4,
 "nbformat_minor": 4
}
